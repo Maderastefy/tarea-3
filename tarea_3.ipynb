{
  "nbformat": 4,
  "nbformat_minor": 0,
  "metadata": {
    "colab": {
      "provenance": [],
      "authorship_tag": "ABX9TyNCr79LMz72Cg9PbH8bmTYL",
      "include_colab_link": true
    },
    "kernelspec": {
      "name": "python3",
      "display_name": "Python 3"
    },
    "language_info": {
      "name": "python"
    }
  },
  "cells": [
    {
      "cell_type": "markdown",
      "metadata": {
        "id": "view-in-github",
        "colab_type": "text"
      },
      "source": [
        "<a href=\"https://colab.research.google.com/github/Maderastefy/tarea-3/blob/main/tarea_3.ipynb\" target=\"_parent\"><img src=\"https://colab.research.google.com/assets/colab-badge.svg\" alt=\"Open In Colab\"/></a>"
      ]
    },
    {
      "cell_type": "code",
      "execution_count": null,
      "metadata": {
        "colab": {
          "base_uri": "https://localhost:8080/"
        },
        "id": "WifIJbzuavy_",
        "outputId": "390a52d4-9c4d-4e27-c7f7-1e9c4b1c9ab8"
      },
      "outputs": [
        {
          "output_type": "stream",
          "name": "stdout",
          "text": [
            "Ingrese la concentracion de H:0.075\n",
            "1.1249387366083\n"
          ]
        }
      ],
      "source": [
        "conc_H = float(input(\"Ingrese la concentracion de H:\"))\n",
        "import math\n",
        "math.log(conc_H, 10)\n",
        "pH = -math.log(conc_H, 10)\n",
        "print(pH)"
      ]
    },
    {
      "cell_type": "code",
      "source": [
        "Gramos_compuesto = float(input(\"ingrese gramos o mililitros del compuesto:\"))\n",
        "escala = input(\"Es gramo(g) o litros(l):\").lower()\n",
        "if escala == \"g\":\n",
        "     Peso_A = float(input(\"ingrese peso atomico del compuesto:\"))\n",
        "     moles = (Gramos_compuesto * (1 / Peso_A))\n",
        "     print(moles)\n",
        "elif escala == \"ml\":\n",
        "     Con_Molar = float(input(\"ingrese molaridad del compuesto:\"))\n",
        "     moles = (Gramos_compuesto * Con_Molar)\n",
        "     print(moles)"
      ],
      "metadata": {
        "colab": {
          "base_uri": "https://localhost:8080/"
        },
        "id": "ZPFajFJFgiYu",
        "outputId": "f1f460cf-4446-4ee2-e3dc-cc2cb7d7ff88"
      },
      "execution_count": null,
      "outputs": [
        {
          "output_type": "stream",
          "name": "stdout",
          "text": [
            "ingrese gramos o mililitros del compuesto:3\n",
            "Es gramo(g) o mililitros(ml):ml\n",
            "ingrese molaridad del compuesto:2\n",
            "6.0\n"
          ]
        }
      ]
    },
    {
      "cell_type": "code",
      "source": [
        "Moles_compuesto = float(input(\"ingrese moles del compuesto (mol):\"))\n",
        "Volumen_total = float(input(\"ingrese volumen total (l):\"))\n",
        "Molaridad = Moles_compuesto / Volumen_total\n",
        "print(Molaridad)"
      ],
      "metadata": {
        "colab": {
          "base_uri": "https://localhost:8080/"
        },
        "id": "T2kdgUU3ksS1",
        "outputId": "88ed0f7e-2f11-4f06-c9b0-fe5d2245b02e"
      },
      "execution_count": null,
      "outputs": [
        {
          "output_type": "stream",
          "name": "stdout",
          "text": [
            "ingrese moles del compuesto (mol):2.25\n",
            "ingrese volumen total (l):0.5\n",
            "4.5\n"
          ]
        }
      ]
    },
    {
      "cell_type": "code",
      "source": [
        "Masa_exp = float(input(\"ingrese masa experimetal(g):\"))\n",
        "Masa_teo = float(input(\"ingrese masa teorica(g):\"))\n",
        "Rendimiento = (Masa_exp / Masa_teo) * 100\n",
        "print(Rendimiento)"
      ],
      "metadata": {
        "colab": {
          "base_uri": "https://localhost:8080/"
        },
        "id": "Q4yCJaUVqpu4",
        "outputId": "6ce0b886-8266-45cb-ade3-3d8909081728"
      },
      "execution_count": null,
      "outputs": [
        {
          "output_type": "stream",
          "name": "stdout",
          "text": [
            "ingrese masa experimetal(g):5.00\n",
            "ingrese masa teorica(g):8.00\n",
            "62.5\n"
          ]
        }
      ]
    },
    {
      "cell_type": "code",
      "source": [
        "M_ac_d = float(input(\"ingrese concentracion (mol/L) del acido debil\"))\n",
        "M_bas = float(input(\"ingrese concentracion (mol/L) de base conjugada\"))\n",
        "pKa = float(input(\"ingrese el pKA del acido debil\"))\n",
        "import math\n",
        "math.log(M_bas / M_ac_d, 10)\n",
        "pH = - pKa + math.log(M_bas / M_ac_d,10)\n",
        "print(pH)"
      ],
      "metadata": {
        "colab": {
          "base_uri": "https://localhost:8080/"
        },
        "id": "Fd3yoR3lsOM2",
        "outputId": "be70b810-411b-48e5-cc90-7c14f5eb1ee5"
      },
      "execution_count": null,
      "outputs": [
        {
          "output_type": "stream",
          "name": "stdout",
          "text": [
            "ingrese concentracion (mol/L) del acido debil0.050\n",
            "ingrese concentracion (mol/L) de base conjugada0.150\n",
            "ingrese el pKA del acido debil-4.187086643\n",
            "4.664207897719662\n"
          ]
        }
      ]
    },
    {
      "cell_type": "code",
      "source": [
        "Kps = float(input(\"ingrese el valor de kps:\"))\n",
        "PI = float(input(\"ingrese el valor del producto ionico:\"))\n",
        "if PI <= Kps:\n",
        "    print(\"SOLUBLE\")\n",
        "else:\n",
        "    print(\"INSOLUBLE\")"
      ],
      "metadata": {
        "id": "dhlHGM5Au23R",
        "colab": {
          "base_uri": "https://localhost:8080/"
        },
        "outputId": "1a487e69-3a9e-4b1f-b2f2-055912689868"
      },
      "execution_count": null,
      "outputs": [
        {
          "output_type": "stream",
          "name": "stdout",
          "text": [
            "ingrese el valor de kps:0.0005\n",
            "ingrese el valor del producto ionico:0.003\n",
            "INSOLUBLE\n"
          ]
        }
      ]
    },
    {
      "cell_type": "code",
      "source": [
        "# modulo_7.py\n",
        "def sumar(op1,op2):\n",
        "    print(\"el resultado de sumar es:\", op1+op2)\n",
        "\n",
        "def restar(op1,op2):\n",
        "   Print(\"el resultado de restar es:\", op1-op2)"
      ],
      "metadata": {
        "id": "9xOUYIwN94h7"
      },
      "execution_count": null,
      "outputs": []
    },
    {
      "cell_type": "code",
      "source": [
        "sumar(7,5)"
      ],
      "metadata": {
        "colab": {
          "base_uri": "https://localhost:8080/"
        },
        "id": "EMe2Ih32-gSd",
        "outputId": "1b7b9e00-d380-4147-f511-6236b1c4d9e5"
      },
      "execution_count": null,
      "outputs": [
        {
          "output_type": "stream",
          "name": "stdout",
          "text": [
            "el resultado de sumar es: 12\n"
          ]
        }
      ]
    },
    {
      "cell_type": "code",
      "source": [
        "# modulo_8.py\n",
        "def factorial(n):\n",
        "   if n == 0:\n",
        "     return 1\n",
        "   else:\n",
        "     return n * factorial(n-1)\n",
        "\n",
        "def calcular_seno(x,n):\n",
        "    seno = 0\n",
        "    for i in range(n):\n",
        "       signo = (-1) ** i\n",
        "       termino = (x ** (2 * i)) / factorial(2 * i + 1)\n",
        "       seno += signo * termino\n",
        "    return seno\n",
        "\n",
        "def calcular_coseno(x,n):\n",
        "    coseno = 0\n",
        "    for i in range(n):\n",
        "       signo = (-1) ** i\n",
        "       termino = (x ** (2*i) / factorial(2 * i))\n",
        "       coseno += signo * termino\n",
        "    return coseno\n",
        "\n",
        "angulo = 1.0\n",
        "\n",
        "n_terminos = 10\n",
        "\n",
        "seno_aprox = calcular_seno(angulo, n_terminos)\n",
        "coseno_aprox = calcular_coseno(angulo, n_terminos)\n",
        "\n",
        "print(f\"seno aproximado: {seno_aprox}\")\n",
        "print(f\"coseno aproximado: {coseno_aprox}\")\n",
        "\n"
      ],
      "metadata": {
        "colab": {
          "base_uri": "https://localhost:8080/"
        },
        "id": "I-mRq9-f-rYh",
        "outputId": "1fe51a58-ddbc-4fe7-b885-10c9015a2ded"
      },
      "execution_count": null,
      "outputs": [
        {
          "output_type": "stream",
          "name": "stdout",
          "text": [
            "seno aproximado: 0.8414709848078965\n",
            "coseno aproximado: 0.5403023058681397\n"
          ]
        }
      ]
    },
    {
      "cell_type": "code",
      "source": [
        "import math\n",
        "\n",
        "seno_real = math.sin(angulo)\n",
        "coseno_real = math.cos(angulo)\n",
        "\n",
        "print(f\"seno_real(math): {seno_real}\")\n",
        "print(f\"coseno_real(math): {coseno_real}\")"
      ],
      "metadata": {
        "colab": {
          "base_uri": "https://localhost:8080/"
        },
        "id": "GPb4wE4HFfsB",
        "outputId": "35b98674-bff8-41e7-b911-872ee0f4dd8c"
      },
      "execution_count": null,
      "outputs": [
        {
          "output_type": "stream",
          "name": "stdout",
          "text": [
            "seno_real(math): 0.8414709848078965\n",
            "coseno_real(math): 0.5403023058681398\n"
          ]
        }
      ]
    },
    {
      "cell_type": "code",
      "source": [
        "s = input(\"Escribe un numero:\")\n",
        "s1 = float(s)\n",
        "s2 = math.radians(s1)\n",
        "\n",
        "seno_s = float(math.sin(s2))\n",
        "coseno_s = float(math.cos(s2))\n",
        "\n",
        "tolerancia = 1e-10\n",
        "\n",
        "if abs(seno_s - coseno_s) < tolerancia:\n",
        "  print(\"los numeros son aproximadamente iguales\")\n",
        "else:\n",
        "  print(\"los numeros son diferentes\")"
      ],
      "metadata": {
        "colab": {
          "base_uri": "https://localhost:8080/"
        },
        "id": "DT3LX3VyLFr3",
        "outputId": "1f3c833f-3310-4f79-d627-df301fd475b6"
      },
      "execution_count": null,
      "outputs": [
        {
          "output_type": "stream",
          "name": "stdout",
          "text": [
            "Escribe un numero:45\n",
            "los numeros son aproximadamente iguales\n"
          ]
        }
      ]
    },
    {
      "cell_type": "code",
      "source": [],
      "metadata": {
        "id": "twUyOvuNPFNd"
      },
      "execution_count": null,
      "outputs": []
    },
    {
      "cell_type": "code",
      "source": [],
      "metadata": {
        "id": "ZgQmS2l9RDLU"
      },
      "execution_count": null,
      "outputs": []
    }
  ]
}